{
  "metadata": {
    "kernelspec": {
      "display_name": "Python 3",
      "name": "python3"
    },
    "language_info": {
      "name": "python",
      "version": "3.10.12",
      "mimetype": "text/x-python",
      "codemirror_mode": {
        "name": "ipython",
        "version": 3
      },
      "pygments_lexer": "ipython3",
      "nbconvert_exporter": "python",
      "file_extension": ".py"
    },
    "colab": {
      "provenance": [],
      "gpuType": "T4"
    },
    "accelerator": "GPU"
  },
  "nbformat_minor": 0,
  "nbformat": 4,
  "cells": [
    {
      "cell_type": "code",
      "source": [
        "import pathlib\n",
        "import tensorflow as tf\n",
        "import matplotlib.pyplot as plt\n",
        "import numpy as np\n",
        "import pandas as pd\n",
        "import os\n",
        "import PIL\n",
        "from tensorflow import keras\n",
        "from tensorflow.keras import layers\n",
        "from tensorflow.keras.models import Sequential\n",
        "from keras.layers import Dense, Dropout, Flatten, Conv2D, MaxPool2D, BatchNormalization, MaxPooling2D\n",
        "from tensorflow.keras.optimizers import Adam,Nadam # - Works\n",
        "import random\n",
        "from glob import glob\n",
        "import seaborn as sns\n",
        "from tensorflow.keras.losses import SparseCategoricalCrossentropy\n",
        "import matplotlib.pyplot as plt\n",
        "import matplotlib.image as img\n",
        "import warnings\n",
        "import shutil\n",
        "warnings.filterwarnings('ignore')\n",
        "os.environ['TF_CPP_MIN_LOG_LEVEL'] = '3'\n",
        "tf.compat.v1.logging.set_verbosity(tf.compat.v1.logging.ERROR)"
      ],
      "metadata": {
        "execution": {
          "iopub.status.busy": "2023-10-12T04:17:30.858660Z",
          "iopub.execute_input": "2023-10-12T04:17:30.858980Z",
          "iopub.status.idle": "2023-10-12T04:17:39.885227Z",
          "shell.execute_reply.started": "2023-10-12T04:17:30.858953Z",
          "shell.execute_reply": "2023-10-12T04:17:39.884187Z"
        },
        "trusted": true,
        "id": "b0B9puFJ7VbI"
      },
      "execution_count": 16,
      "outputs": []
    },
    {
      "cell_type": "code",
      "source": [
        "gpus = tf.config.experimental.list_physical_devices('GPU')\n",
        "print(gpus)\n",
        "try:\n",
        "    tf.config.experimental.set_memory_growth = True\n",
        "except Exception as ex:\n",
        "    print(e)"
      ],
      "metadata": {
        "execution": {
          "iopub.status.busy": "2023-10-12T04:17:51.832332Z",
          "iopub.execute_input": "2023-10-12T04:17:51.832911Z",
          "iopub.status.idle": "2023-10-12T04:17:52.341405Z",
          "shell.execute_reply.started": "2023-10-12T04:17:51.832881Z",
          "shell.execute_reply": "2023-10-12T04:17:52.340341Z"
        },
        "trusted": true,
        "colab": {
          "base_uri": "https://localhost:8080/"
        },
        "id": "A_Inu6v87VbM",
        "outputId": "52791815-be2c-4cc0-9453-fb55b683faac"
      },
      "execution_count": 2,
      "outputs": [
        {
          "output_type": "stream",
          "name": "stdout",
          "text": [
            "[PhysicalDevice(name='/physical_device:GPU:0', device_type='GPU')]\n"
          ]
        }
      ]
    },
    {
      "cell_type": "code",
      "source": [
        "!pip install kaggle"
      ],
      "metadata": {
        "colab": {
          "base_uri": "https://localhost:8080/"
        },
        "id": "WbdyCcfH8B1C",
        "outputId": "2156d170-bd14-4dde-85a2-4fcbc7f18f6a"
      },
      "execution_count": 4,
      "outputs": [
        {
          "output_type": "stream",
          "name": "stdout",
          "text": [
            "Requirement already satisfied: kaggle in /usr/local/lib/python3.10/dist-packages (1.5.16)\n",
            "Requirement already satisfied: six>=1.10 in /usr/local/lib/python3.10/dist-packages (from kaggle) (1.16.0)\n",
            "Requirement already satisfied: certifi in /usr/local/lib/python3.10/dist-packages (from kaggle) (2023.7.22)\n",
            "Requirement already satisfied: python-dateutil in /usr/local/lib/python3.10/dist-packages (from kaggle) (2.8.2)\n",
            "Requirement already satisfied: requests in /usr/local/lib/python3.10/dist-packages (from kaggle) (2.31.0)\n",
            "Requirement already satisfied: tqdm in /usr/local/lib/python3.10/dist-packages (from kaggle) (4.66.1)\n",
            "Requirement already satisfied: python-slugify in /usr/local/lib/python3.10/dist-packages (from kaggle) (8.0.1)\n",
            "Requirement already satisfied: urllib3 in /usr/local/lib/python3.10/dist-packages (from kaggle) (2.0.6)\n",
            "Requirement already satisfied: bleach in /usr/local/lib/python3.10/dist-packages (from kaggle) (6.0.0)\n",
            "Requirement already satisfied: webencodings in /usr/local/lib/python3.10/dist-packages (from bleach->kaggle) (0.5.1)\n",
            "Requirement already satisfied: text-unidecode>=1.3 in /usr/local/lib/python3.10/dist-packages (from python-slugify->kaggle) (1.3)\n",
            "Requirement already satisfied: charset-normalizer<4,>=2 in /usr/local/lib/python3.10/dist-packages (from requests->kaggle) (3.3.0)\n",
            "Requirement already satisfied: idna<4,>=2.5 in /usr/local/lib/python3.10/dist-packages (from requests->kaggle) (3.4)\n"
          ]
        }
      ]
    },
    {
      "cell_type": "code",
      "source": [
        "!mkdir ~/.kaggle"
      ],
      "metadata": {
        "id": "v5JdpY9m8FuP"
      },
      "execution_count": 5,
      "outputs": []
    },
    {
      "cell_type": "code",
      "source": [
        "!cp kaggle.json ~/.kaggle"
      ],
      "metadata": {
        "id": "suii_LL08M8P"
      },
      "execution_count": 6,
      "outputs": []
    },
    {
      "cell_type": "code",
      "source": [
        "!kaggle datasets download -d kylegraupe/skin-cancer-binary-classification-dataset"
      ],
      "metadata": {
        "colab": {
          "base_uri": "https://localhost:8080/"
        },
        "id": "AaYJk8eY8Mze",
        "outputId": "efb8c34c-36cc-43bd-bc43-573d81d7f206"
      },
      "execution_count": 7,
      "outputs": [
        {
          "output_type": "stream",
          "name": "stdout",
          "text": [
            "Warning: Your Kaggle API key is readable by other users on this system! To fix this, you can run 'chmod 600 /root/.kaggle/kaggle.json'\n",
            "Downloading skin-cancer-binary-classification-dataset.zip to /content\n",
            " 40% 9.00M/22.5M [00:00<00:00, 84.0MB/s]\n",
            "100% 22.5M/22.5M [00:00<00:00, 154MB/s] \n"
          ]
        }
      ]
    },
    {
      "cell_type": "code",
      "source": [
        "!unzip /content/skin-cancer-binary-classification-dataset.zip"
      ],
      "metadata": {
        "colab": {
          "base_uri": "https://localhost:8080/"
        },
        "id": "VyuKE1pE8XGn",
        "outputId": "5ede34ba-f163-46fc-d692-2bc2f813525e"
      },
      "execution_count": 8,
      "outputs": [
        {
          "output_type": "stream",
          "name": "stdout",
          "text": [
            "Archive:  /content/skin-cancer-binary-classification-dataset.zip\n",
            "  inflating: Skin_Data/Cancer/Testing/1714-02.jpg  \n",
            "  inflating: Skin_Data/Cancer/Testing/1718-2.jpg  \n",
            "  inflating: Skin_Data/Cancer/Testing/1777-1.JPG  \n",
            "  inflating: Skin_Data/Cancer/Testing/1780.1.JPG  \n",
            "  inflating: Skin_Data/Cancer/Testing/1780.JPG  \n",
            "  inflating: Skin_Data/Cancer/Testing/1789-02.JPG  \n",
            "  inflating: Skin_Data/Cancer/Testing/1811-3.JPG  \n",
            "  inflating: Skin_Data/Cancer/Testing/1847 (7).JPG  \n",
            "  inflating: Skin_Data/Cancer/Testing/1847.JPG  \n",
            "  inflating: Skin_Data/Cancer/Testing/1861-02.JPG  \n",
            "  inflating: Skin_Data/Cancer/Testing/1864-1.JPG  \n",
            "  inflating: Skin_Data/Cancer/Testing/1877(2).JPG  \n",
            "  inflating: Skin_Data/Cancer/Testing/1877.JPG  \n",
            "  inflating: Skin_Data/Cancer/Testing/1905.JPG  \n",
            "  inflating: Skin_Data/Cancer/Testing/1969-1.JPG  \n",
            "  inflating: Skin_Data/Cancer/Testing/1969-2.JPG  \n",
            "  inflating: Skin_Data/Cancer/Testing/1988-01.JPG  \n",
            "  inflating: Skin_Data/Cancer/Testing/1991 (1).JPG  \n",
            "  inflating: Skin_Data/Cancer/Testing/1992.JPG  \n",
            "  inflating: Skin_Data/Cancer/Testing/2085-2.JPG  \n",
            "  inflating: Skin_Data/Cancer/Testing/2099 (3).JPG  \n",
            "  inflating: Skin_Data/Cancer/Testing/2108.1.JPG  \n",
            "  inflating: Skin_Data/Cancer/Testing/2197-03.JPG  \n",
            "  inflating: Skin_Data/Cancer/Testing/2229-1.JPG.JPG  \n",
            "  inflating: Skin_Data/Cancer/Testing/2229-2.JPG.JPG  \n",
            "  inflating: Skin_Data/Cancer/Testing/2241-02.JPG  \n",
            "  inflating: Skin_Data/Cancer/Testing/2301-1.JPG  \n",
            "  inflating: Skin_Data/Cancer/Testing/2343-2.JPG  \n",
            "  inflating: Skin_Data/Cancer/Testing/2400-1.JPG  \n",
            "  inflating: Skin_Data/Cancer/Testing/2510-2.JPG  \n",
            "  inflating: Skin_Data/Cancer/Testing/2535-2.JPG  \n",
            "  inflating: Skin_Data/Cancer/Testing/2535-3.JPG  \n",
            "  inflating: Skin_Data/Cancer/Testing/2535-3q1.JPG  \n",
            "  inflating: Skin_Data/Cancer/Testing/2535-3q2.JPG  \n",
            "  inflating: Skin_Data/Cancer/Testing/2535-6.JPG  \n",
            "  inflating: Skin_Data/Cancer/Testing/2564-02.JPG  \n",
            "  inflating: Skin_Data/Cancer/Testing/2628-1.JPG  \n",
            "  inflating: Skin_Data/Cancer/Testing/2628-1q1.JPG  \n",
            "  inflating: Skin_Data/Cancer/Testing/2628-2.JPG  \n",
            "  inflating: Skin_Data/Cancer/Testing/2628-2q1.JPG  \n",
            "  inflating: Skin_Data/Cancer/Testing/2632-4.JPG  \n",
            "  inflating: Skin_Data/Cancer/Testing/2664-2.JPG  \n",
            "  inflating: Skin_Data/Cancer/Training/1007-1.jpg  \n",
            "  inflating: Skin_Data/Cancer/Training/1010-01.JPG  \n",
            "  inflating: Skin_Data/Cancer/Training/1012-2.JPG  \n",
            "  inflating: Skin_Data/Cancer/Training/1031-1.jpg  \n",
            "  inflating: Skin_Data/Cancer/Training/1051-3(94).jpg  \n",
            "  inflating: Skin_Data/Cancer/Training/1051-3(95).jpg  \n",
            "  inflating: Skin_Data/Cancer/Training/113-1.JPG  \n",
            "  inflating: Skin_Data/Cancer/Training/1157-01.JPG  \n",
            "  inflating: Skin_Data/Cancer/Training/120.2.JPG  \n",
            "  inflating: Skin_Data/Cancer/Training/1239-2.JPG  \n",
            "  inflating: Skin_Data/Cancer/Training/14-8.JPG  \n",
            "  inflating: Skin_Data/Cancer/Training/1435-1.JPG  \n",
            "  inflating: Skin_Data/Cancer/Training/1435-2.JPG  \n",
            "  inflating: Skin_Data/Cancer/Training/1435-3.JPG  \n",
            "  inflating: Skin_Data/Cancer/Training/1540-4.JPG  \n",
            "  inflating: Skin_Data/Cancer/Training/1543.JPG  \n",
            "  inflating: Skin_Data/Cancer/Training/1545.JPG  \n",
            "  inflating: Skin_Data/Cancer/Training/156.JPG  \n",
            "  inflating: Skin_Data/Cancer/Training/1563-03.jpg  \n",
            "  inflating: Skin_Data/Cancer/Training/1654-1.jpg  \n",
            "  inflating: Skin_Data/Cancer/Training/17 (1).JPG  \n",
            "  inflating: Skin_Data/Cancer/Training/1703.JPG  \n",
            "  inflating: Skin_Data/Cancer/Training/1714-01.jpg  \n",
            "  inflating: Skin_Data/Cancer/Training/234-1.JPG  \n",
            "  inflating: Skin_Data/Cancer/Training/236-2.JPG  \n",
            "  inflating: Skin_Data/Cancer/Training/311-1.JPG  \n",
            "  inflating: Skin_Data/Cancer/Training/311-2.JPG  \n",
            "  inflating: Skin_Data/Cancer/Training/341-2.JPG  \n",
            "  inflating: Skin_Data/Cancer/Training/341-5.JPG  \n",
            "  inflating: Skin_Data/Cancer/Training/402-3.JPG  \n",
            "  inflating: Skin_Data/Cancer/Training/412-3.JPG  \n",
            "  inflating: Skin_Data/Cancer/Training/646.1.JPG  \n",
            "  inflating: Skin_Data/Cancer/Training/650-1.JPG  \n",
            "  inflating: Skin_Data/Cancer/Training/650-2.JPG  \n",
            "  inflating: Skin_Data/Cancer/Training/680.JPG  \n",
            "  inflating: Skin_Data/Cancer/Training/728.3.JPG  \n",
            "  inflating: Skin_Data/Cancer/Training/73-2.JPG  \n",
            "  inflating: Skin_Data/Cancer/Training/801.JPG  \n",
            "  inflating: Skin_Data/Cancer/Training/933-1.JPG  \n",
            "  inflating: Skin_Data/Cancer/Training/933-2.JPG  \n",
            "  inflating: Skin_Data/Cancer/Training/DSC_0061.JPG  \n",
            "  inflating: Skin_Data/Cancer/Training/DSC_0061q.JPG  \n",
            "  inflating: Skin_Data/Non_Cancer/Testing/1006-2.JPG  \n",
            "  inflating: Skin_Data/Non_Cancer/Testing/1009-1.JPG  \n",
            "  inflating: Skin_Data/Non_Cancer/Testing/1012.JPG  \n",
            "  inflating: Skin_Data/Non_Cancer/Testing/102-1.JPG  \n",
            "  inflating: Skin_Data/Non_Cancer/Testing/1032.jpg  \n",
            "  inflating: Skin_Data/Non_Cancer/Testing/1045-2.JPG  \n",
            "  inflating: Skin_Data/Non_Cancer/Testing/1054.JPG  \n",
            "  inflating: Skin_Data/Non_Cancer/Testing/1058-2.JPG  \n",
            "  inflating: Skin_Data/Non_Cancer/Testing/1065.jpg  \n",
            "  inflating: Skin_Data/Non_Cancer/Testing/108-1.JPG  \n",
            "  inflating: Skin_Data/Non_Cancer/Testing/1081-1.JPG  \n",
            "  inflating: Skin_Data/Non_Cancer/Testing/1086-01.JPG  \n",
            "  inflating: Skin_Data/Non_Cancer/Testing/1111.JPG  \n",
            "  inflating: Skin_Data/Non_Cancer/Testing/1121.JPG  \n",
            "  inflating: Skin_Data/Non_Cancer/Testing/1125.JPG  \n",
            "  inflating: Skin_Data/Non_Cancer/Testing/1127-1.JPG  \n",
            "  inflating: Skin_Data/Non_Cancer/Testing/1135.1.JPG  \n",
            "  inflating: Skin_Data/Non_Cancer/Testing/1139-01.JPG  \n",
            "  inflating: Skin_Data/Non_Cancer/Testing/114-2.JPG  \n",
            "  inflating: Skin_Data/Non_Cancer/Testing/1142-01.JPG  \n",
            "  inflating: Skin_Data/Non_Cancer/Testing/1150-01.JPG  \n",
            "  inflating: Skin_Data/Non_Cancer/Testing/1151-01.JPG  \n",
            "  inflating: Skin_Data/Non_Cancer/Testing/1161-01.JPG  \n",
            "  inflating: Skin_Data/Non_Cancer/Testing/1174-01.JPG  \n",
            "  inflating: Skin_Data/Non_Cancer/Testing/1242-1.JPG  \n",
            "  inflating: Skin_Data/Non_Cancer/Testing/1244.JPG  \n",
            "  inflating: Skin_Data/Non_Cancer/Testing/1248-1.JPG  \n",
            "  inflating: Skin_Data/Non_Cancer/Testing/1255.JPG  \n",
            "  inflating: Skin_Data/Non_Cancer/Testing/1272-2.JPG  \n",
            "  inflating: Skin_Data/Non_Cancer/Testing/1277-1.JPG  \n",
            "  inflating: Skin_Data/Non_Cancer/Testing/1295.JPG  \n",
            "  inflating: Skin_Data/Non_Cancer/Testing/133-1.JPG  \n",
            "  inflating: Skin_Data/Non_Cancer/Testing/1341-1.JPG  \n",
            "  inflating: Skin_Data/Non_Cancer/Testing/1341-2.JPG  \n",
            "  inflating: Skin_Data/Non_Cancer/Testing/1342.JPG  \n",
            "  inflating: Skin_Data/Non_Cancer/Testing/1359-2.jpg  \n",
            "  inflating: Skin_Data/Non_Cancer/Testing/1360-2.JPG  \n",
            "  inflating: Skin_Data/Non_Cancer/Testing/1364.JPG  \n",
            "  inflating: Skin_Data/Non_Cancer/Testing/1383-02.JPG  \n",
            "  inflating: Skin_Data/Non_Cancer/Testing/1386-02.JPG  \n",
            "  inflating: Skin_Data/Non_Cancer/Testing/139-2.JPG  \n",
            "  inflating: Skin_Data/Non_Cancer/Testing/1393-1.JPG  \n",
            "  inflating: Skin_Data/Non_Cancer/Testing/1396-2.JPG  \n",
            "  inflating: Skin_Data/Non_Cancer/Testing/1397-1.JPG  \n",
            "  inflating: Skin_Data/Non_Cancer/Testing/140.JPG  \n",
            "  inflating: Skin_Data/Non_Cancer/Testing/1442-2.JPG  \n",
            "  inflating: Skin_Data/Non_Cancer/Testing/1477.JPG  \n",
            "  inflating: Skin_Data/Non_Cancer/Testing/1500-2.JPG  \n",
            "  inflating: Skin_Data/Non_Cancer/Testing/1501-2.JPG  \n",
            "  inflating: Skin_Data/Non_Cancer/Testing/1503-1.JPG  \n",
            "  inflating: Skin_Data/Non_Cancer/Testing/1551-03.JPG  \n",
            "  inflating: Skin_Data/Non_Cancer/Testing/1584-01.JPG  \n",
            "  inflating: Skin_Data/Non_Cancer/Testing/1585-01.JPG  \n",
            "  inflating: Skin_Data/Non_Cancer/Testing/1589-01.JPG  \n",
            "  inflating: Skin_Data/Non_Cancer/Testing/1593-01.JPG  \n",
            "  inflating: Skin_Data/Non_Cancer/Testing/1602-01.JPG  \n",
            "  inflating: Skin_Data/Non_Cancer/Testing/1605-01.JPG  \n",
            "  inflating: Skin_Data/Non_Cancer/Testing/1637-02.JPG  \n",
            "  inflating: Skin_Data/Non_Cancer/Testing/1637-03.JPG  \n",
            "  inflating: Skin_Data/Non_Cancer/Testing/1638-1.JPG  \n",
            "  inflating: Skin_Data/Non_Cancer/Testing/1639-1.JPG  \n",
            "  inflating: Skin_Data/Non_Cancer/Testing/1640-2.JPG  \n",
            "  inflating: Skin_Data/Non_Cancer/Testing/1682.jpg  \n",
            "  inflating: Skin_Data/Non_Cancer/Testing/1708-3.JPG  \n",
            "  inflating: Skin_Data/Non_Cancer/Testing/1718-3.jpg  \n",
            "  inflating: Skin_Data/Non_Cancer/Testing/1741-02.JPG  \n",
            "  inflating: Skin_Data/Non_Cancer/Testing/1742-01.JPG  \n",
            "  inflating: Skin_Data/Non_Cancer/Testing/179-1.JPG  \n",
            "  inflating: Skin_Data/Non_Cancer/Testing/18.JPG  \n",
            "  inflating: Skin_Data/Non_Cancer/Testing/1810-01.JPG  \n",
            "  inflating: Skin_Data/Non_Cancer/Testing/1827.JPG  \n",
            "  inflating: Skin_Data/Non_Cancer/Testing/1828.JPG  \n",
            "  inflating: Skin_Data/Non_Cancer/Testing/1834-01.JPG  \n",
            "  inflating: Skin_Data/Non_Cancer/Testing/1836-01.JPG  \n",
            "  inflating: Skin_Data/Non_Cancer/Testing/1839-02.JPG  \n",
            "  inflating: Skin_Data/Non_Cancer/Testing/1839-04.JPG  \n",
            "  inflating: Skin_Data/Non_Cancer/Testing/184.JPG  \n",
            "  inflating: Skin_Data/Non_Cancer/Testing/1852-02.JPG  \n",
            "  inflating: Skin_Data/Non_Cancer/Testing/1857-01.JPG  \n",
            "  inflating: Skin_Data/Non_Cancer/Testing/19-1-1.JPG  \n",
            "  inflating: Skin_Data/Non_Cancer/Testing/19-1.JPG  \n",
            "  inflating: Skin_Data/Non_Cancer/Testing/1902-01.JPG  \n",
            "  inflating: Skin_Data/Non_Cancer/Testing/1906-02.JPG  \n",
            "  inflating: Skin_Data/Non_Cancer/Testing/191-02.JPG  \n",
            "  inflating: Skin_Data/Non_Cancer/Testing/1928-02.JPG  \n",
            "  inflating: Skin_Data/Non_Cancer/Testing/1976-1.JPG  \n",
            "  inflating: Skin_Data/Non_Cancer/Testing/199-2.JPG  \n",
            "  inflating: Skin_Data/Non_Cancer/Testing/1995-1.JPG  \n",
            "  inflating: Skin_Data/Non_Cancer/Testing/1999-02.JPG  \n",
            "  inflating: Skin_Data/Non_Cancer/Testing/201-1.JPG  \n",
            "  inflating: Skin_Data/Non_Cancer/Testing/2013-3.JPG  \n",
            "  inflating: Skin_Data/Non_Cancer/Testing/2020-01.jpg  \n",
            "  inflating: Skin_Data/Non_Cancer/Testing/2040-1.JPG  \n",
            "  inflating: Skin_Data/Non_Cancer/Testing/2044-02.JPG  \n",
            "  inflating: Skin_Data/Non_Cancer/Testing/2045-02.JPG  \n",
            "  inflating: Skin_Data/Non_Cancer/Testing/2046-01.JPG  \n",
            "  inflating: Skin_Data/Non_Cancer/Testing/2047-02.JPG  \n",
            "  inflating: Skin_Data/Non_Cancer/Testing/2052-2.JPG  \n",
            "  inflating: Skin_Data/Non_Cancer/Testing/2053-3.JPG  \n",
            "  inflating: Skin_Data/Non_Cancer/Testing/2061.JPG  \n",
            "  inflating: Skin_Data/Non_Cancer/Testing/2074.2.JPG  \n",
            "  inflating: Skin_Data/Non_Cancer/Testing/2081.3.JPG  \n",
            "  inflating: Skin_Data/Non_Cancer/Testing/2090-1.jpg  \n",
            "  inflating: Skin_Data/Non_Cancer/Testing/2144-2.JPG  \n",
            "  inflating: Skin_Data/Non_Cancer/Testing/2165-03.JPG  \n",
            "  inflating: Skin_Data/Non_Cancer/Testing/2194-03.JPG  \n",
            "  inflating: Skin_Data/Non_Cancer/Testing/2195-02.JPG  \n",
            "  inflating: Skin_Data/Non_Cancer/Testing/2198-02.JPG  \n",
            "  inflating: Skin_Data/Non_Cancer/Testing/2222-3.JPG  \n",
            "  inflating: Skin_Data/Non_Cancer/Testing/2243-02.JPG  \n",
            "  inflating: Skin_Data/Non_Cancer/Testing/2287.JPG  \n",
            "  inflating: Skin_Data/Non_Cancer/Testing/2288.JPG  \n",
            "  inflating: Skin_Data/Non_Cancer/Testing/2294.JPG  \n",
            "  inflating: Skin_Data/Non_Cancer/Testing/233.JPG  \n",
            "  inflating: Skin_Data/Non_Cancer/Testing/2389.JPG  \n",
            "  inflating: Skin_Data/Non_Cancer/Testing/2539-2.JPG  \n",
            "  inflating: Skin_Data/Non_Cancer/Testing/2544-3.JPG  \n",
            "  inflating: Skin_Data/Non_Cancer/Testing/2566-03.JPG  \n",
            "  inflating: Skin_Data/Non_Cancer/Testing/2584-3.JPG  \n",
            "  inflating: Skin_Data/Non_Cancer/Testing/269.JPG  \n",
            "  inflating: Skin_Data/Non_Cancer/Testing/276-2.JPG  \n",
            "  inflating: Skin_Data/Non_Cancer/Testing/277-1.JPG  \n",
            "  inflating: Skin_Data/Non_Cancer/Testing/281.JPG  \n",
            "  inflating: Skin_Data/Non_Cancer/Testing/298-01.JPG  \n",
            "  inflating: Skin_Data/Non_Cancer/Testing/35.JPG  \n",
            "  inflating: Skin_Data/Non_Cancer/Testing/48.JPG  \n",
            "  inflating: Skin_Data/Non_Cancer/Testing/49.JPG  \n",
            "  inflating: Skin_Data/Non_Cancer/Testing/5-01.JPG  \n",
            "  inflating: Skin_Data/Non_Cancer/Testing/56-2.JPG  \n",
            "  inflating: Skin_Data/Non_Cancer/Testing/57-2.JPG  \n",
            "  inflating: Skin_Data/Non_Cancer/Testing/63-1.JPG  \n",
            "  inflating: Skin_Data/Non_Cancer/Testing/738-3.JPG  \n",
            "  inflating: Skin_Data/Non_Cancer/Testing/738-4.JPG  \n",
            "  inflating: Skin_Data/Non_Cancer/Testing/76.JPG  \n",
            "  inflating: Skin_Data/Non_Cancer/Testing/761-01.JPG  \n",
            "  inflating: Skin_Data/Non_Cancer/Testing/762-01.JPG  \n",
            "  inflating: Skin_Data/Non_Cancer/Testing/782.JPG  \n",
            "  inflating: Skin_Data/Non_Cancer/Testing/783.JPG  \n",
            "  inflating: Skin_Data/Non_Cancer/Testing/786-2-1.JPG  \n",
            "  inflating: Skin_Data/Non_Cancer/Testing/787.JPG  \n",
            "  inflating: Skin_Data/Non_Cancer/Testing/806-01.JPG  \n",
            "  inflating: Skin_Data/Non_Cancer/Testing/807-01.JPG  \n",
            "  inflating: Skin_Data/Non_Cancer/Testing/827.JPG  \n",
            "  inflating: Skin_Data/Non_Cancer/Testing/837-01.JPG  \n",
            "  inflating: Skin_Data/Non_Cancer/Testing/839.JPG  \n",
            "  inflating: Skin_Data/Non_Cancer/Testing/842.JPG  \n",
            "  inflating: Skin_Data/Non_Cancer/Testing/849-1.JPG  \n",
            "  inflating: Skin_Data/Non_Cancer/Testing/855-1.JPG  \n",
            "  inflating: Skin_Data/Non_Cancer/Testing/856-2.JPG  \n",
            "  inflating: Skin_Data/Non_Cancer/Testing/863.JPG  \n",
            "  inflating: Skin_Data/Non_Cancer/Testing/864.JPG  \n",
            "  inflating: Skin_Data/Non_Cancer/Testing/878-1.JPG  \n",
            "  inflating: Skin_Data/Non_Cancer/Testing/886-3.JPG  \n",
            "  inflating: Skin_Data/Non_Cancer/Testing/911-2.JPG  \n",
            "  inflating: Skin_Data/Non_Cancer/Testing/912.JPG  \n",
            "  inflating: Skin_Data/Non_Cancer/Testing/937-1.JPG  \n",
            "  inflating: Skin_Data/Non_Cancer/Testing/950-2.JPG  \n",
            "  inflating: Skin_Data/Non_Cancer/Testing/953-1.JPG  \n",
            "  inflating: Skin_Data/Non_Cancer/Testing/954-3.JPG  \n",
            "  inflating: Skin_Data/Non_Cancer/Testing/955.JPG  \n",
            "  inflating: Skin_Data/Non_Cancer/Testing/984.JPG  \n",
            "  inflating: Skin_Data/Non_Cancer/Testing/986-1.JPG  \n",
            "  inflating: Skin_Data/Non_Cancer/Training/299.JPG  \n",
            "  inflating: Skin_Data/Non_Cancer/Training/305-2.JPG  \n",
            "  inflating: Skin_Data/Non_Cancer/Training/332-1.JPG  \n",
            "  inflating: Skin_Data/Non_Cancer/Training/337-2.JPG  \n",
            "  inflating: Skin_Data/Non_Cancer/Training/362-2.JPG  \n",
            "  inflating: Skin_Data/Non_Cancer/Training/410-3.JPG  \n",
            "  inflating: Skin_Data/Non_Cancer/Training/411.JPG  \n",
            "  inflating: Skin_Data/Non_Cancer/Training/422.JPG  \n",
            "  inflating: Skin_Data/Non_Cancer/Training/431-1.JPG  \n",
            "  inflating: Skin_Data/Non_Cancer/Training/433-2.JPG  \n",
            "  inflating: Skin_Data/Non_Cancer/Training/434-2.JPG  \n",
            "  inflating: Skin_Data/Non_Cancer/Training/436.JPG  \n",
            "  inflating: Skin_Data/Non_Cancer/Training/448-4.JPG  \n",
            "  inflating: Skin_Data/Non_Cancer/Training/453-01.JPG  \n",
            "  inflating: Skin_Data/Non_Cancer/Training/490-1.JPG  \n",
            "  inflating: Skin_Data/Non_Cancer/Training/520-2.JPG  \n",
            "  inflating: Skin_Data/Non_Cancer/Training/520.JPG  \n",
            "  inflating: Skin_Data/Non_Cancer/Training/527-2.JPG  \n",
            "  inflating: Skin_Data/Non_Cancer/Training/529-2.JPG  \n",
            "  inflating: Skin_Data/Non_Cancer/Training/544-1.JPG  \n",
            "  inflating: Skin_Data/Non_Cancer/Training/546-2.JPG  \n",
            "  inflating: Skin_Data/Non_Cancer/Training/570-1.JPG  \n",
            "  inflating: Skin_Data/Non_Cancer/Training/572-2.JPG  \n",
            "  inflating: Skin_Data/Non_Cancer/Training/578.JPG  \n",
            "  inflating: Skin_Data/Non_Cancer/Training/583-1.JPG.JPG  \n",
            "  inflating: Skin_Data/Non_Cancer/Training/597-03-1.JPG  \n",
            "  inflating: Skin_Data/Non_Cancer/Training/597-03-2.JPG  \n",
            "  inflating: Skin_Data/Non_Cancer/Training/597-03.JPG  \n",
            "  inflating: Skin_Data/Non_Cancer/Training/614.JPG  \n",
            "  inflating: Skin_Data/Non_Cancer/Training/630-2.JPG  \n",
            "  inflating: Skin_Data/Non_Cancer/Training/638-1.JPG  \n",
            "  inflating: Skin_Data/Non_Cancer/Training/638-2.JPG  \n",
            "  inflating: Skin_Data/Non_Cancer/Training/641.JPG  \n",
            "  inflating: Skin_Data/Non_Cancer/Training/659.JPG  \n",
            "  inflating: Skin_Data/Non_Cancer/Training/661-2.JPG  \n",
            "  inflating: Skin_Data/Non_Cancer/Training/663.JPG  \n",
            "  inflating: Skin_Data/Non_Cancer/Training/664.JPG  \n",
            "  inflating: Skin_Data/Non_Cancer/Training/669-1.JPG  \n",
            "  inflating: Skin_Data/Non_Cancer/Training/669-2.JPG  \n",
            "  inflating: Skin_Data/Non_Cancer/Training/669-3.JPG  \n",
            "  inflating: Skin_Data/Non_Cancer/Training/694-03.JPG  \n",
            "  inflating: Skin_Data/Non_Cancer/Training/738-2.JPG  \n"
          ]
        }
      ]
    },
    {
      "cell_type": "code",
      "source": [
        "!pip install -q Augmentor"
      ],
      "metadata": {
        "execution": {
          "iopub.status.busy": "2023-10-12T04:17:52.414814Z",
          "iopub.execute_input": "2023-10-12T04:17:52.415749Z",
          "iopub.status.idle": "2023-10-12T04:18:03.333206Z",
          "shell.execute_reply.started": "2023-10-12T04:17:52.415713Z",
          "shell.execute_reply": "2023-10-12T04:18:03.331994Z"
        },
        "trusted": true,
        "id": "DFEMfL8Y7VbN"
      },
      "execution_count": 3,
      "outputs": []
    },
    {
      "cell_type": "code",
      "source": [
        "path_to_training_dataset = '/content/Skin_Data/'\n",
        "class_names = ['Cancer','Non_Cancer']\n",
        "import Augmentor\n",
        "for i in class_names:\n",
        "    p = Augmentor.Pipeline(path_to_training_dataset + i + '/Training', output_directory='/content/sample_data/Train/' + i)\n",
        "    p.rotate(probability=0.7, max_left_rotation=10, max_right_rotation=10)\n",
        "    p.sample(4200)"
      ],
      "metadata": {
        "execution": {
          "iopub.status.busy": "2023-10-12T04:18:09.694967Z",
          "iopub.execute_input": "2023-10-12T04:18:09.695304Z",
          "iopub.status.idle": "2023-10-12T04:20:41.849004Z",
          "shell.execute_reply.started": "2023-10-12T04:18:09.695275Z",
          "shell.execute_reply": "2023-10-12T04:20:41.848229Z"
        },
        "trusted": true,
        "colab": {
          "base_uri": "https://localhost:8080/"
        },
        "id": "QO1QzSRR7VbN",
        "outputId": "0ae2e1b3-ab9c-40ba-d813-2d6f633fcbf8"
      },
      "execution_count": 9,
      "outputs": [
        {
          "output_type": "stream",
          "name": "stdout",
          "text": [
            "Initialised with 42 image(s) found.\n",
            "Output directory set to /content/sample_data/Train/Cancer."
          ]
        },
        {
          "output_type": "stream",
          "name": "stderr",
          "text": [
            "Processing <PIL.Image.Image image mode=RGB size=290x210 at 0x7ACD100E6DD0>: 100%|██████████| 4200/4200 [01:53<00:00, 36.87 Samples/s]\n"
          ]
        },
        {
          "output_type": "stream",
          "name": "stdout",
          "text": [
            "Initialised with 42 image(s) found.\n",
            "Output directory set to /content/sample_data/Train/Non_Cancer."
          ]
        },
        {
          "output_type": "stream",
          "name": "stderr",
          "text": [
            "Processing <PIL.Image.Image image mode=RGB size=350x360 at 0x7ACCFFF0FF10>: 100%|██████████| 4200/4200 [00:48<00:00, 86.65 Samples/s]\n"
          ]
        }
      ]
    },
    {
      "cell_type": "code",
      "source": [
        "data_dir = '/content/Skin_Data'  # Update this to your dataset directory\n",
        "output_dir = '/content/sample_data/Test'\n",
        "\n",
        "# Create the output directory if it doesn't exist\n",
        "if not os.path.exists(output_dir):\n",
        "    os.makedirs(output_dir)\n",
        "\n",
        "# Create subdirectories for train and valid (no test directory)\n",
        "os.makedirs(os.path.join(output_dir, 'test'), exist_ok=True)\n",
        "\n",
        "\n",
        "# Define the classes for binary classification\n",
        "classes = ['Cancer', 'Non_Cancer']\n",
        "\n",
        "# Move data from source to train/valid folders\n",
        "for class_name in classes:\n",
        "    class_dir = os.path.join(data_dir,class_name,\"Testing\")\n",
        "\n",
        "    # Create subdirectories for train and valid within each class\n",
        "    os.makedirs(os.path.join(output_dir, 'test', class_name), exist_ok=True)\n",
        "#     os.makedirs(os.path.join(output_dir, 'valid', class_name), exist_ok=True)\n",
        "\n",
        "    # List all files in the current class directory\n",
        "    files = os.listdir(class_dir)\n",
        "\n",
        "\n",
        "    # Move files to train\n",
        "    for file in files:\n",
        "        source_path = os.path.join(class_dir, file)\n",
        "        dest_path = os.path.join(output_dir, 'test', class_name, file)\n",
        "        shutil.copyfile(source_path, dest_path)\n",
        "\n",
        "print(\"Data preprocessing for binary classification complete.\")"
      ],
      "metadata": {
        "execution": {
          "iopub.status.busy": "2023-10-12T04:20:43.955968Z",
          "iopub.execute_input": "2023-10-12T04:20:43.956311Z",
          "iopub.status.idle": "2023-10-12T04:20:44.955206Z",
          "shell.execute_reply.started": "2023-10-12T04:20:43.956286Z",
          "shell.execute_reply": "2023-10-12T04:20:44.954235Z"
        },
        "trusted": true,
        "colab": {
          "base_uri": "https://localhost:8080/"
        },
        "id": "tbgkJWOV7VbN",
        "outputId": "fcc1e06e-7f2b-4fc3-cfca-e343532cec9e"
      },
      "execution_count": 10,
      "outputs": [
        {
          "output_type": "stream",
          "name": "stdout",
          "text": [
            "Data preprocessing for binary classification complete.\n"
          ]
        }
      ]
    },
    {
      "cell_type": "code",
      "source": [
        "batch_size = 16\n",
        "img_height = 180\n",
        "img_width = 180"
      ],
      "metadata": {
        "execution": {
          "iopub.status.busy": "2023-10-12T04:20:47.589255Z",
          "iopub.execute_input": "2023-10-12T04:20:47.589582Z",
          "iopub.status.idle": "2023-10-12T04:20:47.593864Z",
          "shell.execute_reply.started": "2023-10-12T04:20:47.589555Z",
          "shell.execute_reply": "2023-10-12T04:20:47.592713Z"
        },
        "trusted": true,
        "id": "uXTSOkgb7VbO"
      },
      "execution_count": 11,
      "outputs": []
    },
    {
      "cell_type": "code",
      "source": [
        "output_dir = '/content/sample_data/Train'\n",
        "train_ds = tf.keras.preprocessing.image_dataset_from_directory(\n",
        "  output_dir,\n",
        "  seed=123,\n",
        "  validation_split = 0.2,\n",
        "  subset = 'training',\n",
        "  image_size=(img_height, img_width),\n",
        "  batch_size=batch_size)"
      ],
      "metadata": {
        "execution": {
          "iopub.status.busy": "2023-10-12T04:20:50.506015Z",
          "iopub.execute_input": "2023-10-12T04:20:50.506335Z",
          "iopub.status.idle": "2023-10-12T04:20:55.204516Z",
          "shell.execute_reply.started": "2023-10-12T04:20:50.506310Z",
          "shell.execute_reply": "2023-10-12T04:20:55.203616Z"
        },
        "trusted": true,
        "colab": {
          "base_uri": "https://localhost:8080/"
        },
        "id": "4djqDFq87VbP",
        "outputId": "a0fc05b9-7fd7-490f-a231-cdcb0606996e"
      },
      "execution_count": 12,
      "outputs": [
        {
          "output_type": "stream",
          "name": "stdout",
          "text": [
            "Found 8400 files belonging to 2 classes.\n",
            "Using 6720 files for training.\n"
          ]
        }
      ]
    },
    {
      "cell_type": "code",
      "source": [
        "val_ds = tf.keras.preprocessing.image_dataset_from_directory(\n",
        "  output_dir,\n",
        "  seed=123,\n",
        "  validation_split = 0.2,\n",
        "  subset = 'validation',\n",
        "  image_size=(img_height, img_width),\n",
        "  batch_size=batch_size)"
      ],
      "metadata": {
        "execution": {
          "iopub.status.busy": "2023-10-12T04:20:55.206119Z",
          "iopub.execute_input": "2023-10-12T04:20:55.206372Z",
          "iopub.status.idle": "2023-10-12T04:20:55.588627Z",
          "shell.execute_reply.started": "2023-10-12T04:20:55.206351Z",
          "shell.execute_reply": "2023-10-12T04:20:55.587549Z"
        },
        "trusted": true,
        "colab": {
          "base_uri": "https://localhost:8080/"
        },
        "id": "yuQSSB0S7VbP",
        "outputId": "bcb4ce92-e73b-407a-8483-bcea26235355"
      },
      "execution_count": 13,
      "outputs": [
        {
          "output_type": "stream",
          "name": "stdout",
          "text": [
            "Found 8400 files belonging to 2 classes.\n",
            "Using 1680 files for validation.\n"
          ]
        }
      ]
    },
    {
      "cell_type": "code",
      "source": [
        "test_ds = tf.keras.preprocessing.image_dataset_from_directory(\n",
        "  '/content/sample_data/Test/test',\n",
        "  seed=123,\n",
        "  validation_split = 0.9,\n",
        "  subset = 'validation',\n",
        "  image_size=(img_height, img_width),\n",
        "  batch_size=batch_size)"
      ],
      "metadata": {
        "execution": {
          "iopub.status.busy": "2023-10-12T04:20:55.589867Z",
          "iopub.execute_input": "2023-10-12T04:20:55.590680Z",
          "iopub.status.idle": "2023-10-12T04:20:55.620315Z",
          "shell.execute_reply.started": "2023-10-12T04:20:55.590646Z",
          "shell.execute_reply": "2023-10-12T04:20:55.619385Z"
        },
        "trusted": true,
        "colab": {
          "base_uri": "https://localhost:8080/"
        },
        "id": "DG7fQvyJ7VbQ",
        "outputId": "bbcd9438-9f9f-455b-cc96-26526dc88116"
      },
      "execution_count": 14,
      "outputs": [
        {
          "output_type": "stream",
          "name": "stdout",
          "text": [
            "Found 204 files belonging to 2 classes.\n",
            "Using 183 files for validation.\n"
          ]
        }
      ]
    },
    {
      "cell_type": "code",
      "source": [
        "input_shape = (img_height,img_width,3)\n",
        "model = Sequential([layers.experimental.preprocessing.Rescaling(1.0/255,input_shape=input_shape)])\n",
        "model.add(Conv2D(16,(3,3), activation='relu', input_shape=input_shape))\n",
        "model.add(BatchNormalization())\n",
        "model.add(MaxPool2D((2,2)))\n",
        "\n",
        "model.add(Conv2D(32,(3,3), activation='relu', input_shape=input_shape))\n",
        "model.add(BatchNormalization())\n",
        "model.add(MaxPool2D((2,2)))\n",
        "model.add(Dropout(0.1))\n",
        "\n",
        "model.add(Conv2D(64,(3,3), activation='relu', input_shape=input_shape))\n",
        "model.add(BatchNormalization())\n",
        "model.add(MaxPool2D((2,2)))\n",
        "model.add(Dropout(0.15))\n",
        "\n",
        "model.add(Conv2D(128,(3,3), activation='relu', input_shape=input_shape))\n",
        "model.add(BatchNormalization())\n",
        "model.add(MaxPool2D((2,2)))\n",
        "model.add(Dropout(0.2))\n",
        "\n",
        "model.add(Flatten())\n",
        "model.add(Dense(1024, activation='relu'))\n",
        "model.add(Dropout(0.5))\n",
        "model.add(Dense(1, activation='sigmoid'))"
      ],
      "metadata": {
        "execution": {
          "iopub.status.busy": "2023-10-12T04:21:03.229937Z",
          "iopub.execute_input": "2023-10-12T04:21:03.230283Z",
          "iopub.status.idle": "2023-10-12T04:21:03.439451Z",
          "shell.execute_reply.started": "2023-10-12T04:21:03.230256Z",
          "shell.execute_reply": "2023-10-12T04:21:03.438568Z"
        },
        "trusted": true,
        "id": "JUezOlLx7VbR"
      },
      "execution_count": 23,
      "outputs": []
    },
    {
      "cell_type": "code",
      "source": [
        "opt = Adam(learning_rate=0.001)\n",
        "model.compile(optimizer= opt,\n",
        "              loss = 'binary_crossentropy',\n",
        "              metrics=['accuracy'])"
      ],
      "metadata": {
        "execution": {
          "iopub.status.busy": "2023-10-12T04:21:09.995034Z",
          "iopub.execute_input": "2023-10-12T04:21:09.995374Z",
          "iopub.status.idle": "2023-10-12T04:21:10.014284Z",
          "shell.execute_reply.started": "2023-10-12T04:21:09.995346Z",
          "shell.execute_reply": "2023-10-12T04:21:10.013416Z"
        },
        "trusted": true,
        "id": "WRG8f8Ki7VbR"
      },
      "execution_count": 24,
      "outputs": []
    },
    {
      "cell_type": "code",
      "source": [
        "epochs = 20\n",
        "history = model.fit(\n",
        "  train_ds,\n",
        "  validation_data=val_ds,\n",
        "  epochs=epochs\n",
        ")"
      ],
      "metadata": {
        "execution": {
          "iopub.status.busy": "2023-10-12T04:21:11.947394Z",
          "iopub.execute_input": "2023-10-12T04:21:11.948529Z",
          "iopub.status.idle": "2023-10-12T04:26:36.099270Z",
          "shell.execute_reply.started": "2023-10-12T04:21:11.948486Z",
          "shell.execute_reply": "2023-10-12T04:26:36.098359Z"
        },
        "trusted": true,
        "colab": {
          "base_uri": "https://localhost:8080/"
        },
        "id": "H2GaJDfQ7VbR",
        "outputId": "00d4086c-08fd-4f61-fe31-a3afa9d7212f"
      },
      "execution_count": 25,
      "outputs": [
        {
          "output_type": "stream",
          "name": "stdout",
          "text": [
            "Epoch 1/20\n",
            "420/420 [==============================] - 19s 35ms/step - loss: 0.6277 - accuracy: 0.9384 - val_loss: 5.3763 - val_accuracy: 0.7286\n",
            "Epoch 2/20\n",
            "420/420 [==============================] - 15s 35ms/step - loss: 0.2861 - accuracy: 0.9804 - val_loss: 0.1511 - val_accuracy: 0.9786\n",
            "Epoch 3/20\n",
            "420/420 [==============================] - 14s 33ms/step - loss: 0.2249 - accuracy: 0.9863 - val_loss: 0.0392 - val_accuracy: 0.9958\n",
            "Epoch 4/20\n",
            "420/420 [==============================] - 14s 34ms/step - loss: 0.1219 - accuracy: 0.9905 - val_loss: 0.0226 - val_accuracy: 0.9982\n",
            "Epoch 5/20\n",
            "420/420 [==============================] - 15s 34ms/step - loss: 0.1148 - accuracy: 0.9946 - val_loss: 0.4262 - val_accuracy: 0.9714\n",
            "Epoch 6/20\n",
            "420/420 [==============================] - 14s 34ms/step - loss: 0.0451 - accuracy: 0.9976 - val_loss: 5.5499 - val_accuracy: 0.8679\n",
            "Epoch 7/20\n",
            "420/420 [==============================] - 17s 39ms/step - loss: 0.2739 - accuracy: 0.9897 - val_loss: 5.0038 - val_accuracy: 0.9006\n",
            "Epoch 8/20\n",
            "420/420 [==============================] - 14s 32ms/step - loss: 0.1410 - accuracy: 0.9948 - val_loss: 9.5922e-08 - val_accuracy: 1.0000\n",
            "Epoch 9/20\n",
            "420/420 [==============================] - 14s 32ms/step - loss: 0.2109 - accuracy: 0.9946 - val_loss: 1.3543 - val_accuracy: 0.9518\n",
            "Epoch 10/20\n",
            "420/420 [==============================] - 14s 32ms/step - loss: 0.0966 - accuracy: 0.9970 - val_loss: 11.3015 - val_accuracy: 0.8946\n",
            "Epoch 11/20\n",
            "420/420 [==============================] - 14s 33ms/step - loss: 0.0375 - accuracy: 0.9990 - val_loss: 4.6011e-31 - val_accuracy: 1.0000\n",
            "Epoch 12/20\n",
            "420/420 [==============================] - 14s 34ms/step - loss: 0.1404 - accuracy: 0.9967 - val_loss: 2.0634 - val_accuracy: 0.9542\n",
            "Epoch 13/20\n",
            "420/420 [==============================] - 15s 34ms/step - loss: 0.1005 - accuracy: 0.9966 - val_loss: 0.3186 - val_accuracy: 0.9887\n",
            "Epoch 14/20\n",
            "420/420 [==============================] - 14s 32ms/step - loss: 0.0796 - accuracy: 0.9979 - val_loss: 0.0456 - val_accuracy: 0.9982\n",
            "Epoch 15/20\n",
            "420/420 [==============================] - 15s 34ms/step - loss: 0.2094 - accuracy: 0.9966 - val_loss: 10.2835 - val_accuracy: 0.9167\n",
            "Epoch 16/20\n",
            "420/420 [==============================] - 14s 34ms/step - loss: 0.1424 - accuracy: 0.9979 - val_loss: 5.1851 - val_accuracy: 0.9381\n",
            "Epoch 17/20\n",
            "420/420 [==============================] - 15s 35ms/step - loss: 0.1520 - accuracy: 0.9972 - val_loss: 8.4874e-05 - val_accuracy: 1.0000\n",
            "Epoch 18/20\n",
            "420/420 [==============================] - 15s 34ms/step - loss: 0.0315 - accuracy: 0.9993 - val_loss: 0.4274 - val_accuracy: 0.9929\n",
            "Epoch 19/20\n",
            "420/420 [==============================] - 14s 33ms/step - loss: 0.0780 - accuracy: 0.9991 - val_loss: 3.8549e-13 - val_accuracy: 1.0000\n",
            "Epoch 20/20\n",
            "420/420 [==============================] - 14s 33ms/step - loss: 0.0946 - accuracy: 0.9984 - val_loss: 5.2360 - val_accuracy: 0.9619\n"
          ]
        }
      ]
    },
    {
      "cell_type": "code",
      "source": [
        "acc = history.history['accuracy']\n",
        "val_acc = history.history['val_accuracy']\n",
        "\n",
        "loss = history.history['loss']\n",
        "val_loss = history.history['val_loss']\n",
        "\n",
        "epochs_range = range(epochs)\n",
        "\n",
        "plt.figure(figsize=(8, 8))\n",
        "plt.subplot(1, 2, 1)\n",
        "plt.plot(epochs_range, acc, label='Training Accuracy')\n",
        "plt.plot(epochs_range, val_acc, label='Validation Accuracy')\n",
        "plt.legend(loc='lower right')\n",
        "plt.title('Training and Validation Accuracy')\n",
        "\n",
        "plt.subplot(1, 2, 2)\n",
        "plt.plot(epochs_range, loss, label='Training Loss')\n",
        "plt.plot(epochs_range, val_loss, label='Validation Loss')\n",
        "plt.legend(loc='upper right')\n",
        "plt.title('Training and Validation Loss')\n",
        "plt.show()"
      ],
      "metadata": {
        "execution": {
          "iopub.status.busy": "2023-10-12T04:26:41.221869Z",
          "iopub.execute_input": "2023-10-12T04:26:41.222213Z",
          "iopub.status.idle": "2023-10-12T04:26:41.673965Z",
          "shell.execute_reply.started": "2023-10-12T04:26:41.222187Z",
          "shell.execute_reply": "2023-10-12T04:26:41.672871Z"
        },
        "trusted": true,
        "colab": {
          "base_uri": "https://localhost:8080/",
          "height": 699
        },
        "id": "ekHJ1E7v7VbR",
        "outputId": "45e608b1-ac28-4d9b-eeb8-ae6444f5b8ff"
      },
      "execution_count": 26,
      "outputs": [
        {
          "output_type": "display_data",
          "data": {
            "text/plain": [
              "<Figure size 800x800 with 2 Axes>"
            ],
            "image/png": "[encoded data removed]"
          },
          "metadata": {}
        }
      ]
    },
    {
      "cell_type": "code",
      "source": [
        "(eval_loss, eval_accuracy) = model.evaluate(test_ds, batch_size=batch_size)"
      ],
      "metadata": {
        "execution": {
          "iopub.status.busy": "2023-10-12T04:26:46.981556Z",
          "iopub.execute_input": "2023-10-12T04:26:46.982533Z",
          "iopub.status.idle": "2023-10-12T04:26:47.625944Z",
          "shell.execute_reply.started": "2023-10-12T04:26:46.982492Z",
          "shell.execute_reply": "2023-10-12T04:26:47.625030Z"
        },
        "trusted": true,
        "colab": {
          "base_uri": "https://localhost:8080/"
        },
        "id": "DA8xnl6a7VbS",
        "outputId": "649d78c7-9571-48f3-caf7-bea7b133e932"
      },
      "execution_count": 27,
      "outputs": [
        {
          "output_type": "stream",
          "name": "stdout",
          "text": [
            "12/12 [==============================] - 0s 27ms/step - loss: 44.6544 - accuracy: 0.8470\n"
          ]
        }
      ]
    },
    {
      "cell_type": "code",
      "source": [
        "model.save(\"Binary Cancer 85%acc.h5\")"
      ],
      "metadata": {
        "execution": {
          "iopub.status.busy": "2023-10-12T04:26:59.327311Z",
          "iopub.execute_input": "2023-10-12T04:26:59.327735Z",
          "iopub.status.idle": "2023-10-12T04:26:59.682967Z",
          "shell.execute_reply.started": "2023-10-12T04:26:59.327703Z",
          "shell.execute_reply": "2023-10-12T04:26:59.681933Z"
        },
        "trusted": true,
        "id": "dJ7REDwS7VbS"
      },
      "execution_count": 28,
      "outputs": []
    },
    {
      "cell_type": "code",
      "source": [
        "true_categories = np.array(tf.concat([y for x, y in test_ds], axis=0))"
      ],
      "metadata": {
        "id": "NEzWSj96E7ue"
      },
      "execution_count": 109,
      "outputs": []
    },
    {
      "cell_type": "code",
      "source": [
        "predictions = np.array(model.predict(test_ds))\n",
        "pred_categories = []\n",
        "for pred in predictions:\n",
        "  if(pred[0] >= 0.5):\n",
        "    pred_categories.append(1)\n",
        "  else:\n",
        "    pred_categories.append(0)\n",
        "pred_categories = np.array(pred_categories)"
      ],
      "metadata": {
        "colab": {
          "base_uri": "https://localhost:8080/"
        },
        "id": "hW36X9TpHu29",
        "outputId": "cca1b70c-cc34-44ef-e064-fc66b3f25cde"
      },
      "execution_count": 108,
      "outputs": [
        {
          "output_type": "stream",
          "name": "stdout",
          "text": [
            "12/12 [==============================] - 0s 9ms/step\n"
          ]
        }
      ]
    },
    {
      "cell_type": "code",
      "source": [
        "true_categories"
      ],
      "metadata": {
        "colab": {
          "base_uri": "https://localhost:8080/"
        },
        "id": "CoEGq1f1Ka3e",
        "outputId": "ab47c655-e8bc-469c-b7fb-d559ba0d9598"
      },
      "execution_count": 110,
      "outputs": [
        {
          "output_type": "execute_result",
          "data": {
            "text/plain": [
              "array([0, 0, 1, 0, 1, 1, 1, 0, 1, 1, 0, 1, 1, 1, 1, 1, 1, 0, 0, 1, 1, 1,\n",
              "       1, 1, 1, 0, 1, 1, 1, 1, 1, 1, 1, 1, 0, 1, 0, 1, 1, 1, 1, 1, 1, 1,\n",
              "       0, 1, 1, 1, 1, 1, 1, 1, 0, 0, 1, 1, 1, 1, 1, 1, 1, 1, 1, 1, 1, 1,\n",
              "       1, 1, 1, 1, 1, 1, 0, 1, 0, 1, 1, 0, 1, 0, 1, 0, 1, 1, 1, 1, 1, 0,\n",
              "       1, 1, 1, 1, 1, 1, 1, 1, 0, 1, 1, 0, 1, 1, 0, 1, 1, 1, 0, 1, 1, 1,\n",
              "       1, 0, 1, 1, 1, 1, 0, 1, 0, 1, 1, 1, 1, 1, 0, 1, 1, 1, 1, 0, 1, 0,\n",
              "       1, 1, 1, 0, 1, 1, 1, 1, 1, 1, 1, 0, 1, 1, 1, 0, 1, 1, 1, 1, 1, 1,\n",
              "       0, 1, 1, 1, 1, 1, 1, 0, 1, 1, 1, 0, 1, 0, 1, 1, 1, 1, 0, 1, 1, 1,\n",
              "       1, 1, 1, 1, 1, 1, 1], dtype=int32)"
            ]
          },
          "metadata": {},
          "execution_count": 110
        }
      ]
    },
    {
      "cell_type": "code",
      "source": [
        "pred_categories"
      ],
      "metadata": {
        "colab": {
          "base_uri": "https://localhost:8080/"
        },
        "id": "6GpyxI0oLei_",
        "outputId": "5da727bb-dfc5-46cb-9752-57d541fa5e0e"
      },
      "execution_count": 111,
      "outputs": [
        {
          "output_type": "execute_result",
          "data": {
            "text/plain": [
              "array([1, 1, 0, 1, 1, 0, 1, 0, 1, 1, 0, 1, 1, 1, 0, 0, 0, 0, 1, 1, 0, 1,\n",
              "       1, 0, 1, 1, 0, 1, 0, 0, 0, 0, 0, 0, 1, 1, 1, 0, 1, 1, 1, 0, 1, 1,\n",
              "       1, 1, 1, 1, 1, 1, 1, 1, 1, 1, 1, 1, 1, 0, 1, 1, 0, 1, 0, 1, 1, 0,\n",
              "       1, 1, 1, 0, 1, 1, 0, 1, 1, 1, 1, 1, 0, 1, 1, 1, 0, 1, 1, 1, 0, 0,\n",
              "       1, 1, 1, 1, 0, 1, 1, 1, 1, 1, 1, 0, 0, 1, 1, 1, 1, 0, 1, 0, 1, 1,\n",
              "       1, 1, 1, 0, 1, 1, 1, 1, 1, 1, 1, 1, 1, 0, 1, 1, 1, 1, 0, 1, 0, 1,\n",
              "       1, 0, 1, 1, 1, 0, 1, 0, 1, 1, 1, 1, 1, 1, 0, 1, 1, 1, 1, 1, 1, 0,\n",
              "       0, 1, 0, 0, 1, 1, 1, 1, 1, 1, 1, 1, 1, 1, 1, 0, 1, 1, 1, 1, 1, 1,\n",
              "       1, 1, 1, 1, 1, 1, 1])"
            ]
          },
          "metadata": {},
          "execution_count": 111
        }
      ]
    },
    {
      "cell_type": "code",
      "source": [
        "pd.crosstab(true_categories,pred_categories)"
      ],
      "metadata": {
        "colab": {
          "base_uri": "https://localhost:8080/",
          "height": 143
        },
        "id": "6gIfFWgELfyp",
        "outputId": "ba59d869-de8d-4dee-8144-ff0c695650b4"
      },
      "execution_count": 104,
      "outputs": [
        {
          "output_type": "execute_result",
          "data": {
            "text/plain": [
              "col_0   0    1\n",
              "row_0         \n",
              "0      11   26\n",
              "1      36  110"
            ],
            "text/html": [
              "\n",
              "  <div id=\"df-1cea71af-472d-4f5e-8f18-99049d6c51c6\" class=\"colab-df-container\">\n",
              "    <div>\n",
              "<style scoped>\n",
              "    .dataframe tbody tr th:only-of-type {\n",
              "        vertical-align: middle;\n",
              "    }\n",
              "\n",
              "    .dataframe tbody tr th {\n",
              "        vertical-align: top;\n",
              "    }\n",
              "\n",
              "    .dataframe thead th {\n",
              "        text-align: right;\n",
              "    }\n",
              "</style>\n",
              "<table border=\"1\" class=\"dataframe\">\n",
              "  <thead>\n",
              "    <tr style=\"text-align: right;\">\n",
              "      <th>col_0</th>\n",
              "      <th>0</th>\n",
              "      <th>1</th>\n",
              "    </tr>\n",
              "    <tr>\n",
              "      <th>row_0</th>\n",
              "      <th></th>\n",
              "      <th></th>\n",
              "    </tr>\n",
              "  </thead>\n",
              "  <tbody>\n",
              "    <tr>\n",
              "      <th>0</th>\n",
              "      <td>11</td>\n",
              "      <td>26</td>\n",
              "    </tr>\n",
              "    <tr>\n",
              "      <th>1</th>\n",
              "      <td>36</td>\n",
              "      <td>110</td>\n",
              "    </tr>\n",
              "  </tbody>\n",
              "</table>\n",
              "</div>\n",
              "    <div class=\"colab-df-buttons\">\n",
              "\n",
              "  <div class=\"colab-df-container\">\n",
              "    <button class=\"colab-df-convert\" onclick=\"convertToInteractive('df-1cea71af-472d-4f5e-8f18-99049d6c51c6')\"\n",
              "            title=\"Convert this dataframe to an interactive table.\"\n",
              "            style=\"display:none;\">\n",
              "\n",
              "  <svg xmlns=\"http://www.w3.org/2000/svg\" height=\"24px\" viewBox=\"0 -960 960 960\">\n",
              "    <path d=\"M120-120v-720h720v720H120Zm60-500h600v-160H180v160Zm220 220h160v-160H400v160Zm0 220h160v-160H400v160ZM180-400h160v-160H180v160Zm440 0h160v-160H620v160ZM180-180h160v-160H180v160Zm440 0h160v-160H620v160Z\"/>\n",
              "  </svg>\n",
              "    </button>\n",
              "\n",
              "  <style>\n",
              "    .colab-df-container {\n",
              "      display:flex;\n",
              "      gap: 12px;\n",
              "    }\n",
              "\n",
              "    .colab-df-convert {\n",
              "      background-color: #E8F0FE;\n",
              "      border: none;\n",
              "      border-radius: 50%;\n",
              "      cursor: pointer;\n",
              "      display: none;\n",
              "      fill: #1967D2;\n",
              "      height: 32px;\n",
              "      padding: 0 0 0 0;\n",
              "      width: 32px;\n",
              "    }\n",
              "\n",
              "    .colab-df-convert:hover {\n",
              "      background-color: #E2EBFA;\n",
              "      box-shadow: 0px 1px 2px rgba(60, 64, 67, 0.3), 0px 1px 3px 1px rgba(60, 64, 67, 0.15);\n",
              "      fill: #174EA6;\n",
              "    }\n",
              "\n",
              "    .colab-df-buttons div {\n",
              "      margin-bottom: 4px;\n",
              "    }\n",
              "\n",
              "    [theme=dark] .colab-df-convert {\n",
              "      background-color: #3B4455;\n",
              "      fill: #D2E3FC;\n",
              "    }\n",
              "\n",
              "    [theme=dark] .colab-df-convert:hover {\n",
              "      background-color: #434B5C;\n",
              "      box-shadow: 0px 1px 3px 1px rgba(0, 0, 0, 0.15);\n",
              "      filter: drop-shadow(0px 1px 2px rgba(0, 0, 0, 0.3));\n",
              "      fill: #FFFFFF;\n",
              "    }\n",
              "  </style>\n",
              "\n",
              "    <script>\n",
              "      const buttonEl =\n",
              "        document.querySelector('#df-1cea71af-472d-4f5e-8f18-99049d6c51c6 button.colab-df-convert');\n",
              "      buttonEl.style.display =\n",
              "        google.colab.kernel.accessAllowed ? 'block' : 'none';\n",
              "\n",
              "      async function convertToInteractive(key) {\n",
              "        const element = document.querySelector('#df-1cea71af-472d-4f5e-8f18-99049d6c51c6');\n",
              "        const dataTable =\n",
              "          await google.colab.kernel.invokeFunction('convertToInteractive',\n",
              "                                                    [key], {});\n",
              "        if (!dataTable) return;\n",
              "\n",
              "        const docLinkHtml = 'Like what you see? Visit the ' +\n",
              "          '<a target=\"_blank\" href=https://colab.research.google.com/notebooks/data_table.ipynb>data table notebook</a>'\n",
              "          + ' to learn more about interactive tables.';\n",
              "        element.innerHTML = '';\n",
              "        dataTable['output_type'] = 'display_data';\n",
              "        await google.colab.output.renderOutput(dataTable, element);\n",
              "        const docLink = document.createElement('div');\n",
              "        docLink.innerHTML = docLinkHtml;\n",
              "        element.appendChild(docLink);\n",
              "      }\n",
              "    </script>\n",
              "  </div>\n",
              "\n",
              "\n",
              "<div id=\"df-e667cdf2-0cf3-4f81-bf60-235376ae8a01\">\n",
              "  <button class=\"colab-df-quickchart\" onclick=\"quickchart('df-e667cdf2-0cf3-4f81-bf60-235376ae8a01')\"\n",
              "            title=\"Suggest charts.\"\n",
              "            style=\"display:none;\">\n",
              "\n",
              "<svg xmlns=\"http://www.w3.org/2000/svg\" height=\"24px\"viewBox=\"0 0 24 24\"\n",
              "     width=\"24px\">\n",
              "    <g>\n",
              "        <path d=\"M19 3H5c-1.1 0-2 .9-2 2v14c0 1.1.9 2 2 2h14c1.1 0 2-.9 2-2V5c0-1.1-.9-2-2-2zM9 17H7v-7h2v7zm4 0h-2V7h2v10zm4 0h-2v-4h2v4z\"/>\n",
              "    </g>\n",
              "</svg>\n",
              "  </button>\n",
              "\n",
              "<style>\n",
              "  .colab-df-quickchart {\n",
              "      --bg-color: #E8F0FE;\n",
              "      --fill-color: #1967D2;\n",
              "      --hover-bg-color: #E2EBFA;\n",
              "      --hover-fill-color: #174EA6;\n",
              "      --disabled-fill-color: #AAA;\n",
              "      --disabled-bg-color: #DDD;\n",
              "  }\n",
              "\n",
              "  [theme=dark] .colab-df-quickchart {\n",
              "      --bg-color: #3B4455;\n",
              "      --fill-color: #D2E3FC;\n",
              "      --hover-bg-color: #434B5C;\n",
              "      --hover-fill-color: #FFFFFF;\n",
              "      --disabled-bg-color: #3B4455;\n",
              "      --disabled-fill-color: #666;\n",
              "  }\n",
              "\n",
              "  .colab-df-quickchart {\n",
              "    background-color: var(--bg-color);\n",
              "    border: none;\n",
              "    border-radius: 50%;\n",
              "    cursor: pointer;\n",
              "    display: none;\n",
              "    fill: var(--fill-color);\n",
              "    height: 32px;\n",
              "    padding: 0;\n",
              "    width: 32px;\n",
              "  }\n",
              "\n",
              "  .colab-df-quickchart:hover {\n",
              "    background-color: var(--hover-bg-color);\n",
              "    box-shadow: 0 1px 2px rgba(60, 64, 67, 0.3), 0 1px 3px 1px rgba(60, 64, 67, 0.15);\n",
              "    fill: var(--button-hover-fill-color);\n",
              "  }\n",
              "\n",
              "  .colab-df-quickchart-complete:disabled,\n",
              "  .colab-df-quickchart-complete:disabled:hover {\n",
              "    background-color: var(--disabled-bg-color);\n",
              "    fill: var(--disabled-fill-color);\n",
              "    box-shadow: none;\n",
              "  }\n",
              "\n",
              "  .colab-df-spinner {\n",
              "    border: 2px solid var(--fill-color);\n",
              "    border-color: transparent;\n",
              "    border-bottom-color: var(--fill-color);\n",
              "    animation:\n",
              "      spin 1s steps(1) infinite;\n",
              "  }\n",
              "\n",
              "  @keyframes spin {\n",
              "    0% {\n",
              "      border-color: transparent;\n",
              "      border-bottom-color: var(--fill-color);\n",
              "      border-left-color: var(--fill-color);\n",
              "    }\n",
              "    20% {\n",
              "      border-color: transparent;\n",
              "      border-left-color: var(--fill-color);\n",
              "      border-top-color: var(--fill-color);\n",
              "    }\n",
              "    30% {\n",
              "      border-color: transparent;\n",
              "      border-left-color: var(--fill-color);\n",
              "      border-top-color: var(--fill-color);\n",
              "      border-right-color: var(--fill-color);\n",
              "    }\n",
              "    40% {\n",
              "      border-color: transparent;\n",
              "      border-right-color: var(--fill-color);\n",
              "      border-top-color: var(--fill-color);\n",
              "    }\n",
              "    60% {\n",
              "      border-color: transparent;\n",
              "      border-right-color: var(--fill-color);\n",
              "    }\n",
              "    80% {\n",
              "      border-color: transparent;\n",
              "      border-right-color: var(--fill-color);\n",
              "      border-bottom-color: var(--fill-color);\n",
              "    }\n",
              "    90% {\n",
              "      border-color: transparent;\n",
              "      border-bottom-color: var(--fill-color);\n",
              "    }\n",
              "  }\n",
              "</style>\n",
              "\n",
              "  <script>\n",
              "    async function quickchart(key) {\n",
              "      const quickchartButtonEl =\n",
              "        document.querySelector('#' + key + ' button');\n",
              "      quickchartButtonEl.disabled = true;  // To prevent multiple clicks.\n",
              "      quickchartButtonEl.classList.add('colab-df-spinner');\n",
              "      try {\n",
              "        const charts = await google.colab.kernel.invokeFunction(\n",
              "            'suggestCharts', [key], {});\n",
              "      } catch (error) {\n",
              "        console.error('Error during call to suggestCharts:', error);\n",
              "      }\n",
              "      quickchartButtonEl.classList.remove('colab-df-spinner');\n",
              "      quickchartButtonEl.classList.add('colab-df-quickchart-complete');\n",
              "    }\n",
              "    (() => {\n",
              "      let quickchartButtonEl =\n",
              "        document.querySelector('#df-e667cdf2-0cf3-4f81-bf60-235376ae8a01 button');\n",
              "      quickchartButtonEl.style.display =\n",
              "        google.colab.kernel.accessAllowed ? 'block' : 'none';\n",
              "    })();\n",
              "  </script>\n",
              "</div>\n",
              "    </div>\n",
              "  </div>\n"
            ]
          },
          "metadata": {},
          "execution_count": 104
        }
      ]
    },
    {
      "cell_type": "code",
      "source": [
        "from sklearn.metrics import classification_report, accuracy_score\n",
        "print(classification_report(true_categories,pred_categories))"
      ],
      "metadata": {
        "colab": {
          "base_uri": "https://localhost:8080/"
        },
        "id": "F6CTKSo0LrNy",
        "outputId": "b99f69eb-0f52-46de-b706-09de23ee4633"
      },
      "execution_count": 106,
      "outputs": [
        {
          "output_type": "stream",
          "name": "stdout",
          "text": [
            "              precision    recall  f1-score   support\n",
            "\n",
            "           0       0.23      0.30      0.26        37\n",
            "           1       0.81      0.75      0.78       146\n",
            "\n",
            "    accuracy                           0.66       183\n",
            "   macro avg       0.52      0.53      0.52       183\n",
            "weighted avg       0.69      0.66      0.68       183\n",
            "\n"
          ]
        }
      ]
    },
    {
      "cell_type": "code",
      "source": [
        "from tensorflow.keras.preprocessing import image"
      ],
      "metadata": {
        "execution": {
          "iopub.status.busy": "2023-10-12T04:27:11.272996Z",
          "iopub.execute_input": "2023-10-12T04:27:11.273332Z",
          "iopub.status.idle": "2023-10-12T04:27:11.278612Z",
          "shell.execute_reply.started": "2023-10-12T04:27:11.273306Z",
          "shell.execute_reply": "2023-10-12T04:27:11.277547Z"
        },
        "trusted": true,
        "id": "Nt8H5IB_7VbS"
      },
      "execution_count": 112,
      "outputs": []
    },
    {
      "cell_type": "code",
      "source": [
        "img = image.load_img('/content/sample_data/Test/test/Cancer/1992.JPG',target_size =(180,180))"
      ],
      "metadata": {
        "execution": {
          "iopub.status.busy": "2023-10-12T04:27:13.723279Z",
          "iopub.execute_input": "2023-10-12T04:27:13.723671Z",
          "iopub.status.idle": "2023-10-12T04:27:13.738513Z",
          "shell.execute_reply.started": "2023-10-12T04:27:13.723638Z",
          "shell.execute_reply": "2023-10-12T04:27:13.737338Z"
        },
        "trusted": true,
        "id": "ZQQUdFv87VbS"
      },
      "execution_count": 113,
      "outputs": []
    },
    {
      "cell_type": "code",
      "source": [
        "x = image.img_to_array(img)\n",
        "x = np.expand_dims(x,axis = 0)\n",
        "pred =model.predict(x)\n",
        "if(float(pred[0]) >= 0.5):\n",
        "    print(\"Non Cancer\")\n",
        "else:\n",
        "    print(\"Cancer\")\n",
        "score = float(pred[0])\n",
        "print(f\"This image is {100 * (1 - score):.2f}% Cancer and {100 * score:.2f}% Non Cancer.\")"
      ],
      "metadata": {
        "execution": {
          "iopub.status.busy": "2023-10-12T04:27:16.338317Z",
          "iopub.execute_input": "2023-10-12T04:27:16.338720Z",
          "iopub.status.idle": "2023-10-12T04:27:16.685116Z",
          "shell.execute_reply.started": "2023-10-12T04:27:16.338680Z",
          "shell.execute_reply": "2023-10-12T04:27:16.684093Z"
        },
        "trusted": true,
        "colab": {
          "base_uri": "https://localhost:8080/"
        },
        "id": "NNn2xIwU7VbS",
        "outputId": "a5735a8d-5180-450f-d3db-45ec0c8a6b3d"
      },
      "execution_count": 114,
      "outputs": [
        {
          "output_type": "stream",
          "name": "stdout",
          "text": [
            "1/1 [==============================] - 0s 46ms/step\n",
            "Cancer\n",
            "This image is 100.00% Cancer and 0.00% Non Cancer.\n"
          ]
        }
      ]
    }
  ]
}